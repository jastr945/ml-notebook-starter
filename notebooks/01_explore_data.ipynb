{
 "cells": [
  {
   "cell_type": "code",
   "execution_count": null,
   "id": "c7250014-945a-475a-8b88-630432dbe797",
   "metadata": {},
   "outputs": [],
   "source": [
    "# The goal is to load, inspect, and sanity-check your raw datasets.\n",
    "\n",
    "# Imports\n",
    "import pandas as pd # data processing, CSV file I/O (e.g. pd.read_csv)\n",
    "import matplotlib.pyplot as plt\n",
    "import seaborn as sns\n",
    "from pathlib import Path"
   ]
  },
  {
   "cell_type": "code",
   "execution_count": null,
   "id": "90615ab8-3847-44d0-98e4-1d3f5a0bb600",
   "metadata": {},
   "outputs": [],
   "source": [
    "# Paths\n",
    "DATA_DIR = Path(\"../data/raw\")\n",
    "\n",
    "EXAMPLE_DATASET = DATA_DIR / \"data.csv\"\n",
    "\n",
    "# Load data\n",
    "df_example = pd.read_csv(EXAMPLE_DATASET)"
   ]
  },
  {
   "cell_type": "code",
   "execution_count": null,
   "id": "a66833bd-17a2-42d8-a965-89284fa5b5c6",
   "metadata": {},
   "outputs": [],
   "source": [
    "# Preview dataset\n",
    "display(df_example.head())"
   ]
  },
  {
   "cell_type": "code",
   "execution_count": null,
   "id": "d2a7ed02-837c-4eb8-a6f6-a2a66771f728",
   "metadata": {},
   "outputs": [],
   "source": [
    "display(df_example.iloc[:, :5].head())  # show first 5 results\n",
    "\n",
    "# Basic sanity checks\n",
    "print(\"\\nMissing values in dataset:\", df_example.isna().sum().sum())"
   ]
  },
  {
   "cell_type": "code",
   "execution_count": null,
   "id": "ed2733c0-d78d-43b8-986f-51260bed9384",
   "metadata": {},
   "outputs": [],
   "source": [
    "# Plot Data"
   ]
  },
  {
   "cell_type": "code",
   "execution_count": null,
   "id": "d33a079f-0029-46d1-9314-281d3082e530",
   "metadata": {},
   "outputs": [],
   "source": [
    "# Save quick summary\n",
    "summary = {\n",
    "    \"num_sequences\": len(df_example),\n",
    "    ...\n",
    "}\n",
    "summary_df = pd.DataFrame([summary])\n",
    "summary_df.to_csv(\"../results/summary_data_stats.csv\", index=False)\n",
    "\n",
    "print(\"\\nDataset exploration complete.\")"
   ]
  }
 ],
 "metadata": {
  "kernelspec": {
   "display_name": "Python 3 (ipykernel)",
   "language": "python",
   "name": "python3"
  },
  "language_info": {
   "codemirror_mode": {
    "name": "ipython",
    "version": 3
   },
   "file_extension": ".py",
   "mimetype": "text/x-python",
   "name": "python",
   "nbconvert_exporter": "python",
   "pygments_lexer": "ipython3",
   "version": "3.9.13"
  }
 },
 "nbformat": 4,
 "nbformat_minor": 5
}
