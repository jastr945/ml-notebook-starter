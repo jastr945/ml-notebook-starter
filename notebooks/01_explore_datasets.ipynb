# The goal is to load, inspect, and sanity-check your raw datasets.

# Imports
import pandas as pd # data processing, CSV file I/O (e.g. pd.read_csv)
import matplotlib.pyplot as plt
import seaborn as sns
from pathlib import Path

# Paths
DATA_DIR = Path("../data/raw")

EXAMPLE_DATASET = DATA_DIR / "data.csv"

# Load data
df_example = pd.read_csv(EXAMPLE_DATASET)

# Preview dataset
display(df_example.head())

display(df_example.iloc[:, :5].head())  # show first 5 results

# Basic sanity checks
print("\nMissing values in dataset:", df_example.isna().sum().sum())

# Plot Data

# Save quick summary
summary = {
    "num_sequences": len(df_example),
    ...
}
summary_df = pd.DataFrame([summary])
summary_df.to_csv("../results/summary_data_stats.csv", index=False)

print("\nDataset exploration complete.")

